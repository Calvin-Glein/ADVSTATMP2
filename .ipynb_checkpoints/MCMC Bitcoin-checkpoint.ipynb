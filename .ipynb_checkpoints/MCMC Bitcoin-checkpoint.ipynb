{
 "cells": [
  {
   "cell_type": "code",
   "execution_count": 64,
   "metadata": {},
   "outputs": [
    {
     "name": "stdout",
     "output_type": "stream",
     "text": [
      "Printing prior\n",
      "           Date    Price\n",
      "0  July-17-2017  2594.94\n",
      "1  July-18-2017  2545.68\n",
      "2  July-19-2017  2566.71\n",
      "3  July-20-2017  2588.05\n",
      "4  July-21-2017  2609.68\n",
      "5  July-22-2017  2631.62\n",
      "6  July-23-2017  2653.86\n",
      "\n",
      "Printing actual\n",
      "           Date    Price\n",
      "0  July-17-2017  2050.82\n",
      "1  July-18-2017  2269.79\n",
      "2  July-19-2017  2308.37\n",
      "3  July-20-2017  2486.87\n",
      "4  July-21-2017  2720.35\n",
      "5  July-22-2017  2776.55\n",
      "6  July-23-2017  2773.24\n"
     ]
    }
   ],
   "source": [
    "import numpy\n",
    "import os\n",
    "import pandas as pd \n",
    "import datetime\n",
    "\n",
    "#para mawala ellipses\n",
    "#pd.set_option('display.max_rows', 100000)\n",
    "#parse the dates mula sa dataset\n",
    "def dateparse (time_in_secs):    \n",
    "    return datetime.datetime.fromtimestamp(float(time_in_secs))\n",
    "\n",
    "\n",
    "\n",
    "#dataset is from coinbase, exchange sya for cryptocurrency\n",
    "\n",
    "#this is our Actual data (not the priori)\n",
    "#df = df = pd.read_csv('coinbaseUSD_1-min_data_2014-12-01_to_2017-10-20.csv', encoding='utf-8', engine='python',  parse_dates=True, date_parser=dateparse, index_col=[0])\n",
    "\n",
    "\n",
    "#print(df.tail(1000))\n",
    "\n",
    "\n",
    "#Date interval from july 17 to july 23\n",
    "#prior data from bitcoinforecast.com\n",
    "priorDataFrame = pd.read_csv('predicted.csv', encoding='utf-8', engine='python')\n",
    "#actual data from bitcoinaverage, exchange and api platform sya\n",
    "actualDataFrame = pd.read_csv('actual.csv', encoding='utf-8', engine='python')\n",
    "\n",
    "\n",
    "\n",
    "print(\"Printing prior\")\n",
    "print(priorDataFrame)\n",
    "print()\n",
    "print(\"Printing actual\")\n",
    "print(actualDataFrame)\n",
    "\n"
   ]
  }
 ],
 "metadata": {
  "kernelspec": {
   "display_name": "Python 3",
   "language": "python",
   "name": "python3"
  },
  "language_info": {
   "codemirror_mode": {
    "name": "ipython",
    "version": 3
   },
   "file_extension": ".py",
   "mimetype": "text/x-python",
   "name": "python",
   "nbconvert_exporter": "python",
   "pygments_lexer": "ipython3",
   "version": "3.6.3"
  }
 },
 "nbformat": 4,
 "nbformat_minor": 2
}
